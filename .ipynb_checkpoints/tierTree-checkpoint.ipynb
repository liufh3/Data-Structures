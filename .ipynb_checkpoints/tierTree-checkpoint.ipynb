{
 "cells": [
  {
   "cell_type": "code",
   "execution_count": 1,
   "metadata": {},
   "outputs": [],
   "source": [
    "class tierTree:\n",
    "    \n",
    "    def __init__(self):\n",
    "        self.root = {}\n",
    "        self.end = -1\n",
    "        self.show = []\n",
    "        \n",
    "    def insert(self, word):\n",
    "        curNode = self.root\n",
    "        for c in word:\n",
    "            if c not in curNode:\n",
    "                curNode[c] = {}\n",
    "            curNode = curNode[c]\n",
    "        curNode[self.end] = True\n",
    "    \n",
    "    def find(self, word):\n",
    "        curNode = self.root\n",
    "        for c in word:\n",
    "            if c not in curNode:\n",
    "                return False\n",
    "            curNode = curNode[c]\n",
    "        if self.end not in curNode:\n",
    "            return False\n",
    "        return True\n",
    "    \n",
    "    def find_prefix(self, prefix):\n",
    "        self.show = []\n",
    "        curNode = self.root\n",
    "        for c in prefix:\n",
    "            if c not in curNode:\n",
    "                return None\n",
    "            curNode = curNode[c]\n",
    "        self.show_word(curNode, '')\n",
    "        return [prefix + c for c in self.show]\n",
    "    \n",
    "    def showTree(self):\n",
    "        self.show = []\n",
    "        self.show_word(self.root, '')\n",
    "        return self.show\n",
    "    \n",
    "    def show_word(self, root, s):\n",
    "        if self.end in root:\n",
    "            self.show.append(s)\n",
    "        for c in root:\n",
    "            if c != self.end:\n",
    "                self.show_word(root[c], s+c)"
   ]
  },
  {
   "cell_type": "code",
   "execution_count": 2,
   "metadata": {},
   "outputs": [],
   "source": [
    "obj = tierTree()"
   ]
  },
  {
   "cell_type": "code",
   "execution_count": 3,
   "metadata": {},
   "outputs": [],
   "source": [
    "obj.insert('word')\n",
    "obj.insert('words')\n",
    "obj.insert('world')\n",
    "obj.insert('hello')\n",
    "obj.insert('python')"
   ]
  },
  {
   "cell_type": "code",
   "execution_count": 4,
   "metadata": {},
   "outputs": [
    {
     "data": {
      "text/plain": [
       "True"
      ]
     },
     "execution_count": 4,
     "metadata": {},
     "output_type": "execute_result"
    }
   ],
   "source": [
    "obj.find('words')"
   ]
  },
  {
   "cell_type": "code",
   "execution_count": 5,
   "metadata": {},
   "outputs": [
    {
     "data": {
      "text/plain": [
       "['hello']"
      ]
     },
     "execution_count": 5,
     "metadata": {},
     "output_type": "execute_result"
    }
   ],
   "source": [
    "obj.find_prefix('he')"
   ]
  },
  {
   "cell_type": "code",
   "execution_count": 6,
   "metadata": {},
   "outputs": [
    {
     "data": {
      "text/plain": [
       "['word', 'words', 'world', 'hello', 'python']"
      ]
     },
     "execution_count": 6,
     "metadata": {},
     "output_type": "execute_result"
    }
   ],
   "source": [
    "obj.showTree()"
   ]
  }
 ],
 "metadata": {
  "kernelspec": {
   "display_name": "Python 3",
   "language": "python",
   "name": "python3"
  },
  "language_info": {
   "codemirror_mode": {
    "name": "ipython",
    "version": 3
   },
   "file_extension": ".py",
   "mimetype": "text/x-python",
   "name": "python",
   "nbconvert_exporter": "python",
   "pygments_lexer": "ipython3",
   "version": "3.7.3"
  }
 },
 "nbformat": 4,
 "nbformat_minor": 2
}
