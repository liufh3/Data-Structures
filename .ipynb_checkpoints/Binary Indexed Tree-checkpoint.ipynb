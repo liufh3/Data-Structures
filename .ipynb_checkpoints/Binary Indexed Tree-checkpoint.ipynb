{
 "cells": [
  {
   "cell_type": "markdown",
   "metadata": {},
   "source": [
    "树状数组是一个查询和修改复杂度都为$log(n)$的数据结构。主要用于数组的单点修改&&区间求和."
   ]
  },
  {
   "cell_type": "markdown",
   "metadata": {},
   "source": [
    "## 单点修改+区间查询"
   ]
  },
  {
   "cell_type": "code",
   "execution_count": 10,
   "metadata": {},
   "outputs": [],
   "source": [
    "def lowbit(x):\n",
    "    return x & -x\n",
    "\n",
    "class BIT:\n",
    "    \n",
    "    def __init__(self, l):\n",
    "        self.BIT = [0] * (len(l)+1)\n",
    "        self.BIT[1:] = l\n",
    "        for i in range(1, len(self.BIT)):\n",
    "            j = i + (i & -i)\n",
    "            if j < len(self.BIT):\n",
    "                self.BIT[j] = self.BIT[j] + self.BIT[i]\n",
    "        \n",
    "    def update(self, idx, num):\n",
    "        idx += 1\n",
    "        while idx < len(self.BIT):\n",
    "            self.BIT[idx] += num\n",
    "            idx = idx + lowbit(idx)\n",
    "            \n",
    "    def prefixsum(self, idx):\n",
    "        idx += 1\n",
    "        result = 0\n",
    "        while idx > 0:\n",
    "            result += self.BIT[idx]\n",
    "            idx = idx - lowbit(idx)\n",
    "        return result\n",
    "    \n",
    "    def rangesum(self, start_idx, end_idx):\n",
    "        return self.prefixsum(end_idx) - self.prefixsum(start_idx-1)"
   ]
  },
  {
   "cell_type": "markdown",
   "metadata": {},
   "source": [
    "### 树状数组求逆序对"
   ]
  },
  {
   "cell_type": "markdown",
   "metadata": {},
   "source": [
    "首先明确树状数组在此问题中维护信息是某个区间中数字出现的个数，将源数据按其原本顺序插入树状数组，第i个数字插入的方式为将树状数组的第$a[i]$位设为1，同时更新覆盖到它的父区间，$Query(a[i])$可求得$[1, a[i]]$的区间和，这恰好代表第i个数字前小于等于它的个数，等于的只可能是自身，故小于它的有$Query(a[i])-1$个，那么大于它的显然就有$i-1-(Query(a[i])-1)$ = $i-Query(a[i])$个"
   ]
  },
  {
   "cell_type": "code",
   "execution_count": 3,
   "metadata": {},
   "outputs": [],
   "source": [
    "class BIT:\n",
    "    \n",
    "    def __init__(self, nums):\n",
    "        _m = min(nums)-1\n",
    "        self.nums = [i-_m for i in nums]\n",
    "        self.BIT = [0] * (max(self.nums)+1)\n",
    "\n",
    "    def lowbit(self, x):\n",
    "        return x & -x\n",
    "\n",
    "    def update(self, idx, num):\n",
    "        while idx < len(self.BIT):\n",
    "            self.BIT[idx] += num\n",
    "            idx += self.lowbit(idx)\n",
    "\n",
    "    def prefixsum(self, idx):\n",
    "        sum_result = 0\n",
    "        while idx:\n",
    "            sum_result += self.BIT[idx]\n",
    "            idx -= self.lowbit(idx)\n",
    "        return sum_result\n",
    "\n",
    "    def reservepair(self):\n",
    "        result = 0\n",
    "        for i in range(len(self.nums)):\n",
    "            self.update(self.nums[i],1)\n",
    "            result += (i+1) - self.prefixsum(self.nums[i])\n",
    "        return result"
   ]
  },
  {
   "cell_type": "code",
   "execution_count": 1,
   "metadata": {},
   "outputs": [],
   "source": [
    "import bisect\n",
    "nums = [4,8,2,3,1]\n",
    "tmp = sorted(nums)\n",
    "for i in range(len(nums)):\n",
    "    nums[i] = bisect.bisect_left(tmp, nums[i]) + 1"
   ]
  },
  {
   "cell_type": "code",
   "execution_count": 4,
   "metadata": {},
   "outputs": [
    {
     "data": {
      "text/plain": [
       "8"
      ]
     },
     "execution_count": 4,
     "metadata": {},
     "output_type": "execute_result"
    }
   ],
   "source": [
    "BIT1 = BIT(nums)\n",
    "BIT1.reservepair()"
   ]
  },
  {
   "cell_type": "markdown",
   "metadata": {},
   "source": [
    "## 区间修改+单点查询"
   ]
  },
  {
   "cell_type": "markdown",
   "metadata": {},
   "source": [
    "通过“差分”（就是记录数组中每个元素与前一个元素的差），可以把这个问题转化为问题1。\n",
    "\n",
    "### 查询\n",
    "设原数组为$a[i]$, 设数组$d[i]=a[i]−a[i−1](a[0]=0)$，则 $a[i]=\\sum_{j=1}^{i} d[j]$，可以通过求$d[i]$的前缀和查询。\n",
    "\n",
    "### 修改\n",
    "当给区间$[l,r]$加上x的时候，$a[l]$ 与前一个元素 $a[l−1]$ 的差增加了x，$a[r+1]$ 与 $a[r]$ 的差减少了x。根据$d[i]$数组的定义，只需给$d[l]$ 加上 x, 给$d[r+1]$ 减去 x 即可。"
   ]
  },
  {
   "cell_type": "code",
   "execution_count": 1,
   "metadata": {},
   "outputs": [],
   "source": [
    "def add(idx, x):   #这个函数用来在树状数组中直接修改\n",
    "    while idx <= n:\n",
    "        d[p] += x\n",
    "        idx += lowbit(idx)\n",
    "\n",
    "def range_add(start_idx, end_idx, x):    #给区间[l,r]加上x\n",
    "    add(start_idx, x)\n",
    "    add(end_idx, x)\n",
    "    \n",
    "def prefixsum(idx):     #单点查询\n",
    "    result = 0\n",
    "    while idx:\n",
    "        result += d[idx]\n",
    "        idx -= lowbit(idx)\n",
    "    return result"
   ]
  },
  {
   "cell_type": "markdown",
   "metadata": {},
   "source": [
    "## 区间修改 + 区间查询"
   ]
  },
  {
   "cell_type": "markdown",
   "metadata": {},
   "source": [
    "我们基于问题2的“差分”思路，考虑一下如何在问题2构建的树状数组中求前缀和：\n",
    "\n",
    "$位置p的前缀和 = \\sum_{i=1}^{p} a[i] = \\sum_{i=1}^{p} \\sum_{j=1}^{i} d[j]$在等式最右侧的式子$\\sum_{i=1}^{p} \\sum_{j=1}^{i} d[j]$中$d[1]$被用了$p$次，$d[2]$被用了$p-1$次，那么我们可以写出：  \n",
    "$$位置p的前缀和 = $$\n",
    "\n",
    "∑i=1pa[i]=∑i=1p∑j=1id[j]$\n",
    "在等式最右侧的式子∑pi=1∑ij=1d[j]中，d[1] 被用了p次，d[2]被用了p−1次……那么我们可以写出：\n",
    "\n",
    "位置p的前缀和 =\n",
    "\n",
    "∑i=1p∑j=1id[j]=∑i=1pd[i]∗(p−i+1)=(p+1)∗∑i=1pd[i]−∑i=1pd[i]∗i\n",
    "那么我们可以维护两个数组的前缀和：\n",
    "一个数组是 sum1[i]=d[i]，\n",
    "另一个数组是 sum2[i]=d[i]∗i。\n",
    "\n",
    "查询\n",
    "位置p的前缀和即： (p + 1) * sum1数组中p的前缀和 - sum2数组中p的前缀和。\n",
    "\n",
    "区间[l, r]的和即：位置r的前缀和 - 位置l的前缀和。\n",
    "\n",
    "修改\n",
    "对于sum1数组的修改同问题2中对d数组的修改。\n",
    "\n",
    "对于sum2数组的修改也类似，我们给 sum2[l] 加上 l * x，给 sum2[r + 1] 减去 (r + 1) * x。"
   ]
  },
  {
   "cell_type": "code",
   "execution_count": null,
   "metadata": {},
   "outputs": [],
   "source": []
  }
 ],
 "metadata": {
  "kernelspec": {
   "display_name": "Python 3",
   "language": "python",
   "name": "python3"
  },
  "language_info": {
   "codemirror_mode": {
    "name": "ipython",
    "version": 3
   },
   "file_extension": ".py",
   "mimetype": "text/x-python",
   "name": "python",
   "nbconvert_exporter": "python",
   "pygments_lexer": "ipython3",
   "version": "3.7.3"
  }
 },
 "nbformat": 4,
 "nbformat_minor": 2
}
